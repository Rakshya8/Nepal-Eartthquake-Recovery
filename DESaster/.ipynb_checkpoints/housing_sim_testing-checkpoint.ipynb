{
 "cells": [
  {
   "cell_type": "code",
   "execution_count": 3,
   "metadata": {
    "collapsed": false
   },
   "outputs": [
    {
     "name": "stdout",
     "output_type": "stream",
     "text": [
      "%pylab is deprecated, use %matplotlib inline and import the required libraries.\n",
      "Populating the interactive namespace from numpy and matplotlib\n"
     ]
    }
   ],
   "source": [
    "# -*- coding: utf-8 -*-\n",
    "\"\"\"\n",
    "\n",
    "@author: hulingd, milessb\n",
    "\"\"\"\n",
    "#dependencies:\n",
    "#SimPy version 3.0.5 \n",
    "import simpy\n",
    "import numpy\n",
    "from numpy.random import normal, random_integers\n",
    "import pandas as pd\n",
    "\n",
    "%pylab inline"
   ]
  },
  {
   "cell_type": "markdown",
   "metadata": {},
   "source": [
    "**Household class definition**"
   ]
  },
  {
   "cell_type": "code",
   "execution_count": 32,
   "metadata": {
    "collapsed": false
   },
   "outputs": [],
   "source": [
    "class Household:\n",
    "    def __init__(self, household):\n",
    "        # Time parameters\n",
    "        self.response_time = 14       # Initial wait time before inspection is requested\n",
    "        self.inspection_time = 1      # Time it takes to inspect a house\n",
    "        self.rebuild_time = 60        # Time required to rebuild house\n",
    "\n",
    "        # Inputs\n",
    "        self.name = household['name']       # Name assigned to household\n",
    "        self.damaged = household['damaged']   # Boolean: True if the house is damaged\n",
    "        \n",
    "        # For damaged houses, expect a damage type: 'minor', 'moderate', or 'severe'\n",
    "        if self.damaged:\n",
    "            self.damage_type = household.get('damage_type', 'moderate')  # default to 'moderate'\n",
    "            damage_mapping = {\n",
    "                'minor': 50000,     # NPR 50,000 for minor damage\n",
    "                'moderate': 100000, # NPR 100,000 for moderate damage\n",
    "                'severe': 150000    # NPR 150,000 for severe damage\n",
    "            }\n",
    "            self.damage_value = damage_mapping.get(self.damage_type, 100000)\n",
    "        else:\n",
    "            self.damage_type = None\n",
    "            self.damage_value = 0\n",
    "\n",
    "        # Outputs / bookkeeping variables\n",
    "        self.story = []                  # Narrative of events for the household\n",
    "        self.inspection_put = 0          # Time when inspection was requested\n",
    "        self.inspection_get = 0          # Time when inspection was completed\n",
    "        self.house_put = 0               # Time when rebuild was requested\n",
    "        self.house_get = 0               # Time when rebuild was completed\n",
    "\n",
    "    def simulate(self, simulation):\n",
    "        # Log initial status (no savings considered)\n",
    "        self.story.append('{} has no savings.'.format(self.name))\n",
    "        # Wait before inspection is requested\n",
    "        yield simulation.timeout(self.response_time)\n",
    "        # Begin the inspection process\n",
    "        yield simulation.process(self.request_inspection(simulation))\n",
    "\n",
    "    def request_inspection(self, simulation):\n",
    "        # Simulate inspection process without resources\n",
    "        self.inspection_put = simulation.now\n",
    "        yield simulation.timeout(self.inspection_time)\n",
    "        self.inspection_get = simulation.now\n",
    "\n",
    "        self.story.append(\n",
    "            'The house was inspected {} days after the earthquake.'.format(self.response_time))\n",
    "        \n",
    "        if self.damaged:\n",
    "            self.story.append(\n",
    "                \"{}'s house suffered {} damage with an estimated repair cost of NPR {}.\".format(\n",
    "                    self.name, self.damage_type, self.damage_value))\n",
    "            # Proceed directly to rebuild the house\n",
    "            yield simulation.process(self.rebuild_house(simulation))\n",
    "        else:\n",
    "            self.story.append(\"{}'s house did not suffer any damage.\".format(self.name))\n",
    "            return  # End process if no damage\n",
    "\n",
    "    def rebuild_house(self, simulation):\n",
    "        # Simulate rebuild process without resource requests\n",
    "        self.house_put = simulation.now\n",
    "        yield simulation.timeout(self.rebuild_time)\n",
    "        self.house_get = simulation.now\n",
    "\n",
    "        # Mark the house as rebuilt\n",
    "        self.damaged = False\n",
    "        self.damage_value = 0\n",
    "\n",
    "        self.story.append(\n",
    "            'The house was rebuilt {} days after the quake, taking {} days to rebuild.'.format(\n",
    "                self.house_get, self.rebuild_time))"
   ]
  },
  {
   "cell_type": "markdown",
   "metadata": {},
   "source": [
    "**Durable resources class definition**"
   ]
  },
  {
   "cell_type": "code",
   "execution_count": 33,
   "metadata": {
    "collapsed": true
   },
   "outputs": [],
   "source": [
    "# class DurableResources:\n",
    "#     def __init__(self, simulation, resources_dict):\n",
    "#         self.simulation = simulation\n",
    "#         self.resources_dict = resources_dict\n",
    "#         self.fill()\n",
    "    \n",
    "#     #Fill is an internal method to fill the dictionary of resource objects\n",
    "#     def fill(self):\n",
    "#         self.category = {}\n",
    "#         for category, quantity in self.resources_dict.iteritems():\n",
    "#             self.category[category] = simpy.Resource(self.simulation, quantity)\n",
    "#             self.quantity = quantity"
   ]
  },
  {
   "cell_type": "markdown",
   "metadata": {},
   "source": [
    "**Nondurable resources class definition **"
   ]
  },
  {
   "cell_type": "code",
   "execution_count": 34,
   "metadata": {
    "collapsed": false
   },
   "outputs": [],
   "source": [
    "# class NondurableResources:\n",
    "#     def __init__(self, simulation, resources_dict):\n",
    "#         self.simulation = simulation\n",
    "#         self.resources_dict = resources_dict\n",
    "#         self.fill()\n",
    "\n",
    "#     #Fill is an internal method to fill the dictionary of resource objects\n",
    "#     def fill(self):\n",
    "#         self.category = {}\n",
    "#         for category, quantity in self.resources_dict.iteritems():\n",
    "#             self.category[category] = simpy.Container(self.simulation, capacity=inf, init=quantity)\n",
    "#             self.quantity = quantity"
   ]
  },
  {
   "cell_type": "markdown",
   "metadata": {},
   "source": [
    "** Import household attributes data **"
   ]
  },
  {
   "cell_type": "code",
   "execution_count": 35,
   "metadata": {
    "collapsed": true
   },
   "outputs": [],
   "source": [
    "#households_inputs_csv = 'noDupHouses_coords.csv'\n",
    "#households_inputs = pd.read_csv(households_inputs_csv,index_col=None)"
   ]
  },
  {
   "cell_type": "code",
   "execution_count": 45,
   "metadata": {
    "collapsed": false
   },
   "outputs": [
    {
     "name": "stdout",
     "output_type": "stream",
     "text": [
      "Attributes for Household 0: ['damage_type', 'damage_value', 'damaged', 'house_get', 'house_put', 'inspection_get', 'inspection_put', 'inspection_time', 'name', 'rebuild_time', 'response_time', 'story']\n",
      "Story for Household 0:\n",
      "Household A has no savings.\n",
      "The house was inspected 14 days after the earthquake.\n",
      "Household A's house suffered severe damage with an estimated repair cost of NPR 150000.\n",
      "The house was rebuilt 75 days after the quake, taking 60 days to rebuild.\n"
     ]
    }
   ],
   "source": [
    "simulation = simpy.Environment()\n",
    "\n",
    "# Example household inputs as a pandas DataFrame\n",
    "households_inputs = pd.DataFrame([\n",
    "    {'name': 'Household A', 'damaged': True, 'damage_type': 'severe'},\n",
    "    {'name': 'Household B', 'damaged': False},\n",
    "    {'name': 'Household C', 'damaged': True, 'damage_type': 'minor'},\n",
    "])\n",
    "\n",
    "# Instantiate household objects\n",
    "households = {}\n",
    "for i in households_inputs.index:\n",
    "    households[i] = Household(households_inputs.loc[i])\n",
    "\n",
    "# Place household simulation processes into the simulation environment\n",
    "for household in households.keys():\n",
    "    simulation.process(households[household].simulate(simulation))\n",
    "\n",
    "# Grab a list of all the attributes of one household (example: household 0)\n",
    "household_vars = [attr for attr in dir(households[0]) if not callable(getattr(households[0], attr)) and not attr.startswith(\"__\")]\n",
    "\n",
    "# Run the simulation\n",
    "simulation.run()\n",
    "\n",
    "# Output attributes and story for household 0\n",
    "print(\"Attributes for Household 0:\", household_vars)\n",
    "print(\"Story for Household 0:\")\n",
    "for line in households[0].story:\n",
    "    print(line)"
   ]
  },
  {
   "cell_type": "markdown",
   "metadata": {},
   "source": [
    "**Set resources contants**"
   ]
  },
  {
   "cell_type": "code",
   "execution_count": 24,
   "metadata": {
    "collapsed": false
   },
   "outputs": [],
   "source": [
    "# NUM_INSPECTORS = 4  #Number of Inspectors \n",
    "# NUM_FEMA_PROCESSORS = 0 #Number of FEMA assistance application processors\n",
    "# NUM_INSURANCE_ADJUSTERS = 0 #Number of insurance claim adjusters\n",
    "# NUM_CONTRACTORS = 0 #Number of Contractors\n",
    "\n",
    "# durable_resources_dict = {\"inspectors\": NUM_INSPECTORS,   \n",
    "#              \"fema processors\": NUM_FEMA_PROCESSORS,\n",
    "#              \"claim adjusters\": NUM_INSURANCE_ADJUSTERS,\n",
    "#              \"contractors\": NUM_CONTRACTORS,\n",
    "#              }\n",
    "\n",
    "# FEMA_ASSISTANCE_BUDGET = 0 # Budget allocated to FEMA to fund individual assistance\n",
    "\n",
    "# nondurable_resources_dict = {\"fema assistance\": FEMA_ASSISTANCE_BUDGET}"
   ]
  },
  {
   "cell_type": "markdown",
   "metadata": {},
   "source": [
    "**Instantiate, populate, and run the simulation**"
   ]
  },
  {
   "cell_type": "code",
   "execution_count": 30,
   "metadata": {
    "collapsed": false,
    "scrolled": true
   },
   "outputs": [],
   "source": [
    "# # create simulation environment\n",
    "# simulation = simpy.Environment()\n",
    "\n",
    "# # paramaterize resources and place in simulation environmentl \n",
    "# # durable_resources = DurableResources(simulation, durable_resources_dict)\n",
    "# # nondurable_resources = NondurableResources(simulation, nondurable_resources_dict)\n",
    "# # resources = {'durable': durable_resources,\n",
    "# #                  'nondurable': nondurable_resources}\n",
    "\n",
    "# # Instantiage household objects\n",
    "# households = {}\n",
    "# for i in households_inputs.index:\n",
    "#     households[i] = Household(households_inputs.loc[i])\n",
    "\n",
    "# # paramaterize households objects and place in simulation environmentl\n",
    "# for household in households.iterkeys():\n",
    "#     simulation.process(households[household].simulate(simulation, resources=none))\n",
    "    \n",
    "# # Grab a list of all of the attributes in the households object\n",
    "# household_vars = [attr for attr in dir(households[i]) if not callable(attr) and not attr.startswith(\"__\")]\n",
    "\n",
    "# # Run the simulation\n",
    "# simulation.run() "
   ]
  },
  {
   "cell_type": "markdown",
   "metadata": {},
   "source": [
    "**Extract outputs from individual household objects to joint data table**"
   ]
  },
  {
   "cell_type": "code",
   "execution_count": 37,
   "metadata": {
    "collapsed": false
   },
   "outputs": [],
   "source": [
    "\n",
    "\n",
    "# # ----------------------\n",
    "# # Create simulation environment\n",
    "# simulation = simpy.Environment()\n",
    "\n",
    "# # Example household inputs as a pandas DataFrame\n",
    "# households_inputs = pd.DataFrame([\n",
    "#     {'name': 'Household A', 'damaged': True, 'damage_type': 'severe'},\n",
    "#     {'name': 'Household B', 'damaged': False},\n",
    "#     {'name': 'Household C', 'damaged': True, 'damage_type': 'minor'},\n",
    "# ])\n",
    "\n",
    "# # Instantiate household objects\n",
    "# households = {}\n",
    "# for i in households_inputs.index:\n",
    "#     households[i] = Household(households_inputs.loc[i])\n",
    "\n",
    "# # Place household simulation processes into the simulation environment\n",
    "# for household in households.keys():\n",
    "#     simulation.process(households[household].simulate(simulation))\n",
    "\n",
    "# # Grab a list of all the attributes of one household (example: household 0)\n",
    "# household_vars = [attr for attr in dir(households[0]) if not callable(getattr(households[0], attr)) and not attr.startswith(\"__\")]\n",
    "\n",
    "# # Run the simulation\n",
    "# simulation.run()\n",
    "\n",
    "# # Output attributes and story for household 0\n",
    "# print(\"Attributes for Household 0:\", household_vars)\n",
    "# print(\"Story for Household 0:\")\n",
    "# for line in households[0].story:\n",
    "#     print(line)\n"
   ]
  },
  {
   "cell_type": "code",
   "execution_count": 38,
   "metadata": {
    "collapsed": false
   },
   "outputs": [
    {
     "data": {
      "text/html": [
       "<div>\n",
       "<style scoped>\n",
       "    .dataframe tbody tr th:only-of-type {\n",
       "        vertical-align: middle;\n",
       "    }\n",
       "\n",
       "    .dataframe tbody tr th {\n",
       "        vertical-align: top;\n",
       "    }\n",
       "\n",
       "    .dataframe thead th {\n",
       "        text-align: right;\n",
       "    }\n",
       "</style>\n",
       "<table border=\"1\" class=\"dataframe\">\n",
       "  <thead>\n",
       "    <tr style=\"text-align: right;\">\n",
       "      <th></th>\n",
       "      <th>name</th>\n",
       "      <th>damaged</th>\n",
       "      <th>damage_type</th>\n",
       "    </tr>\n",
       "  </thead>\n",
       "  <tbody>\n",
       "    <tr>\n",
       "      <th>0</th>\n",
       "      <td>Household A</td>\n",
       "      <td>True</td>\n",
       "      <td>severe</td>\n",
       "    </tr>\n",
       "    <tr>\n",
       "      <th>1</th>\n",
       "      <td>Household B</td>\n",
       "      <td>False</td>\n",
       "      <td>NaN</td>\n",
       "    </tr>\n",
       "    <tr>\n",
       "      <th>2</th>\n",
       "      <td>Household C</td>\n",
       "      <td>True</td>\n",
       "      <td>minor</td>\n",
       "    </tr>\n",
       "  </tbody>\n",
       "</table>\n",
       "</div>"
      ],
      "text/plain": [
       "          name  damaged damage_type\n",
       "0  Household A     True      severe\n",
       "1  Household B    False         NaN\n",
       "2  Household C     True       minor"
      ]
     },
     "execution_count": 38,
     "metadata": {},
     "output_type": "execute_result"
    }
   ],
   "source": [
    "households_inputs"
   ]
  },
  {
   "cell_type": "code",
   "execution_count": null,
   "metadata": {
    "collapsed": false,
    "scrolled": true
   },
   "outputs": [
    {
     "data": {
      "text/html": [
       "<div>\n",
       "<table border=\"1\" class=\"dataframe\">\n",
       "  <thead>\n",
       "    <tr style=\"text-align: right;\">\n",
       "      <th></th>\n",
       "      <th>name</th>\n",
       "      <th>inspection_put</th>\n",
       "      <th>inspection_get</th>\n",
       "      <th>inspection_time</th>\n",
       "    </tr>\n",
       "  </thead>\n",
       "  <tbody>\n",
       "    <tr>\n",
       "      <th>0</th>\n",
       "      <td>Bill</td>\n",
       "      <td>14</td>\n",
       "      <td>15</td>\n",
       "      <td>1</td>\n",
       "    </tr>\n",
       "    <tr>\n",
       "      <th>1</th>\n",
       "      <td>Boyd</td>\n",
       "      <td>14</td>\n",
       "      <td>15</td>\n",
       "      <td>1</td>\n",
       "    </tr>\n",
       "    <tr>\n",
       "      <th>2</th>\n",
       "      <td>Bobby</td>\n",
       "      <td>14</td>\n",
       "      <td>15</td>\n",
       "      <td>1</td>\n",
       "    </tr>\n",
       "    <tr>\n",
       "      <th>3</th>\n",
       "      <td>Biff</td>\n",
       "      <td>14</td>\n",
       "      <td>15</td>\n",
       "      <td>1</td>\n",
       "    </tr>\n",
       "  </tbody>\n",
       "</table>\n",
       "</div>"
      ],
      "text/plain": [
       "    name inspection_put inspection_get inspection_time\n",
       "0   Bill             14             15               1\n",
       "1   Boyd             14             15               1\n",
       "2  Bobby             14             15               1\n",
       "3   Biff             14             15               1"
      ]
     },
     "execution_count": 11,
     "metadata": {},
     "output_type": "execute_result"
    }
   ],
   "source": [
    "# households_outputs[['name','inspection_put','inspection_get','inspection_time']]"
   ]
  },
  {
   "cell_type": "code",
   "execution_count": 40,
   "metadata": {
    "collapsed": false
   },
   "outputs": [],
   "source": [
    "# households_outputs[['name','claim_put','claim_get','claim_time','claim_payout']]"
   ]
  },
  {
   "cell_type": "code",
   "execution_count": 41,
   "metadata": {
    "collapsed": false
   },
   "outputs": [],
   "source": [
    "# households_outputs[['name','assistance_put','assistance_get','assistance_time','assistance_payout']]"
   ]
  },
  {
   "cell_type": "code",
   "execution_count": 48,
   "metadata": {},
   "outputs": [
    {
     "name": "stdout",
     "output_type": "stream",
     "text": [
      "          name  house_put  house_get  rebuild_time\n",
      "0  Household A         15         75            60\n",
      "1  Household B          0          0            60\n",
      "2  Household C         15         75            60\n"
     ]
    }
   ],
   "source": [
    "import pandas as pd\n",
    "\n",
    "# Create a list of dictionaries where each dictionary holds the desired attributes\n",
    "output_data = []\n",
    "for key in households:\n",
    "    h = households[key]\n",
    "    output_data.append({\n",
    "         'name': h.name,\n",
    "         'house_put': h.house_put,\n",
    "         'house_get': h.house_get,\n",
    "         'rebuild_time': h.rebuild_time,\n",
    "         'story': h.story\n",
    "    })\n",
    "\n",
    "# Convert the list of dictionaries into a DataFrame\n",
    "households_outputs = pd.DataFrame(output_data)\n",
    "\n",
    "# Select and print the desired columns\n",
    "print(households_outputs[['name','house_put','house_get','rebuild_time']])"
   ]
  },
  {
   "cell_type": "code",
   "execution_count": 49,
   "metadata": {
    "collapsed": false,
    "scrolled": true
   },
   "outputs": [
    {
     "data": {
      "text/html": [
       "<div>\n",
       "<style scoped>\n",
       "    .dataframe tbody tr th:only-of-type {\n",
       "        vertical-align: middle;\n",
       "    }\n",
       "\n",
       "    .dataframe tbody tr th {\n",
       "        vertical-align: top;\n",
       "    }\n",
       "\n",
       "    .dataframe thead th {\n",
       "        text-align: right;\n",
       "    }\n",
       "</style>\n",
       "<table border=\"1\" class=\"dataframe\">\n",
       "  <thead>\n",
       "    <tr style=\"text-align: right;\">\n",
       "      <th></th>\n",
       "      <th>name</th>\n",
       "      <th>house_put</th>\n",
       "      <th>house_get</th>\n",
       "      <th>rebuild_time</th>\n",
       "    </tr>\n",
       "  </thead>\n",
       "  <tbody>\n",
       "    <tr>\n",
       "      <th>0</th>\n",
       "      <td>Household A</td>\n",
       "      <td>15</td>\n",
       "      <td>75</td>\n",
       "      <td>60</td>\n",
       "    </tr>\n",
       "    <tr>\n",
       "      <th>1</th>\n",
       "      <td>Household B</td>\n",
       "      <td>0</td>\n",
       "      <td>0</td>\n",
       "      <td>60</td>\n",
       "    </tr>\n",
       "    <tr>\n",
       "      <th>2</th>\n",
       "      <td>Household C</td>\n",
       "      <td>15</td>\n",
       "      <td>75</td>\n",
       "      <td>60</td>\n",
       "    </tr>\n",
       "  </tbody>\n",
       "</table>\n",
       "</div>"
      ],
      "text/plain": [
       "          name  house_put  house_get  rebuild_time\n",
       "0  Household A         15         75            60\n",
       "1  Household B          0          0            60\n",
       "2  Household C         15         75            60"
      ]
     },
     "execution_count": 49,
     "metadata": {},
     "output_type": "execute_result"
    }
   ],
   "source": [
    "households_outputs[['name','house_put','house_get','rebuild_time']]"
   ]
  },
  {
   "cell_type": "code",
   "execution_count": 56,
   "metadata": {
    "collapsed": false
   },
   "outputs": [
    {
     "name": "stdout",
     "output_type": "stream",
     "text": [
      "['Household A has no savings.', 'The house was inspected 14 days after the earthquake.', \"Household A's house suffered severe damage with an estimated repair cost of NPR 150000.\", 'The house was rebuilt 75 days after the quake, taking 60 days to rebuild.']\n"
     ]
    }
   ],
   "source": [
    "name = 'Household A'\n",
    "bill_story = households_outputs.loc[households_outputs['name'] == name, 'story'].values[0]\n",
    "print(bill_story)\n"
   ]
  },
  {
   "cell_type": "code",
   "execution_count": null,
   "metadata": {
    "collapsed": true
   },
   "outputs": [],
   "source": []
  }
 ],
 "metadata": {
  "kernelspec": {
   "display_name": "rakshya",
   "language": "python",
   "name": "python3"
  },
  "language_info": {
   "codemirror_mode": {
    "name": "ipython",
    "version": 3
   },
   "file_extension": ".py",
   "mimetype": "text/x-python",
   "name": "python",
   "nbconvert_exporter": "python",
   "pygments_lexer": "ipython3",
   "version": "3.10.15"
  }
 },
 "nbformat": 4,
 "nbformat_minor": 0
}
